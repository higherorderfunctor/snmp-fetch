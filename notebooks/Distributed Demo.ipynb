{
 "cells": [
  {
   "cell_type": "markdown",
   "metadata": {},
   "source": [
    "# Start a Simulated SNMP Agent"
   ]
  },
  {
   "cell_type": "code",
   "execution_count": 1,
   "metadata": {},
   "outputs": [],
   "source": [
    "import subprocess\n",
    "\n",
    "try:\n",
    "    if process:\n",
    "        pass\n",
    "except:\n",
    "    process = subprocess.Popen(\n",
    "        [\n",
    "            'snmpsimd.py',\n",
    "            '--agent-udpv4-endpoint=127.0.0.1:1161',\n",
    "            '--agent-udpv6-endpoint=[::1]:1161'\n",
    "        ],\n",
    "        stdout=subprocess.DEVNULL,\n",
    "        stderr=subprocess.DEVNULL,\n",
    "        shell=False\n",
    "    )"
   ]
  },
  {
   "cell_type": "markdown",
   "metadata": {},
   "source": [
    "# Start a Distributed Local Cluster"
   ]
  },
  {
   "cell_type": "code",
   "execution_count": 2,
   "metadata": {},
   "outputs": [
    {
     "data": {
      "text/html": [
       "<table style=\"border: 2px solid white;\">\n",
       "<tr>\n",
       "<td style=\"vertical-align: top; border: 0px solid white\">\n",
       "<h3 style=\"text-align: left;\">Client</h3>\n",
       "<ul style=\"text-align: left; list-style: none; margin: 0; padding: 0;\">\n",
       "  <li><b>Scheduler: </b>tcp://127.0.0.1:41090</li>\n",
       "</ul>\n",
       "</td>\n",
       "<td style=\"vertical-align: top; border: 0px solid white\">\n",
       "<h3 style=\"text-align: left;\">Cluster</h3>\n",
       "<ul style=\"text-align: left; list-style:none; margin: 0; padding: 0;\">\n",
       "  <li><b>Workers: </b>4</li>\n",
       "  <li><b>Cores: </b>12</li>\n",
       "  <li><b>Memory: </b>67.39 GB</li>\n",
       "</ul>\n",
       "</td>\n",
       "</tr>\n",
       "</table>"
      ],
      "text/plain": [
       "<Client: 'tcp://127.0.0.1:41090' processes=4 threads=12, memory=67.39 GB>"
      ]
     },
     "execution_count": 2,
     "metadata": {},
     "output_type": "execute_result"
    }
   ],
   "source": [
    "from dask import delayed\n",
    "from distributed import Client, LocalCluster, as_completed\n",
    "\n",
    "try:\n",
    "    if cluster and client:\n",
    "        pass\n",
    "except:\n",
    "    cluster = LocalCluster()\n",
    "    client = Client(cluster)\n",
    "    \n",
    "client"
   ]
  },
  {
   "cell_type": "markdown",
   "metadata": {},
   "source": [
    "# Create a DataFrame mimicking a database"
   ]
  },
  {
   "cell_type": "code",
   "execution_count": 3,
   "metadata": {},
   "outputs": [
    {
     "data": {
      "text/html": [
       "<div>\n",
       "<style scoped>\n",
       "    .dataframe tbody tr th:only-of-type {\n",
       "        vertical-align: middle;\n",
       "    }\n",
       "\n",
       "    .dataframe tbody tr th {\n",
       "        vertical-align: top;\n",
       "    }\n",
       "\n",
       "    .dataframe thead th {\n",
       "        text-align: right;\n",
       "    }\n",
       "</style>\n",
       "<table border=\"1\" class=\"dataframe\">\n",
       "  <thead>\n",
       "    <tr style=\"text-align: right;\">\n",
       "      <th></th>\n",
       "      <th></th>\n",
       "      <th>ip_address</th>\n",
       "      <th>community_string</th>\n",
       "      <th>notes</th>\n",
       "    </tr>\n",
       "    <tr>\n",
       "      <th>id</th>\n",
       "      <th>hostname</th>\n",
       "      <th></th>\n",
       "      <th></th>\n",
       "      <th></th>\n",
       "    </tr>\n",
       "  </thead>\n",
       "  <tbody>\n",
       "    <tr>\n",
       "      <th>3a8083c9-79ff-4ed9-969c-e204cee391b3</th>\n",
       "      <th>host1</th>\n",
       "      <td>localhost:1161</td>\n",
       "      <td>recorded/linux-full-walk</td>\n",
       "      <td>DNS Resolution</td>\n",
       "    </tr>\n",
       "    <tr>\n",
       "      <th>83f73383-c7e6-44ff-a063-8c79f339777b</th>\n",
       "      <th>host2</th>\n",
       "      <td>127.0.0.1</td>\n",
       "      <td>recorded/linux-full-walk</td>\n",
       "      <td>Timeout</td>\n",
       "    </tr>\n",
       "    <tr>\n",
       "      <th rowspan=\"2\" valign=\"top\">3cae774a-ec98-4679-b20a-dc1947b0546f</th>\n",
       "      <th>host3</th>\n",
       "      <td>[::1]:1161</td>\n",
       "      <td>recorded/linux-full-walk</td>\n",
       "      <td>IPv6</td>\n",
       "    </tr>\n",
       "    <tr>\n",
       "      <th>host3</th>\n",
       "      <td>[::1]:1161</td>\n",
       "      <td>recorded/linux-full-walk</td>\n",
       "      <td>Preserved Index</td>\n",
       "    </tr>\n",
       "  </tbody>\n",
       "</table>\n",
       "</div>"
      ],
      "text/plain": [
       "                                                   ip_address  \\\n",
       "id                                   hostname                   \n",
       "3a8083c9-79ff-4ed9-969c-e204cee391b3 host1     localhost:1161   \n",
       "83f73383-c7e6-44ff-a063-8c79f339777b host2          127.0.0.1   \n",
       "3cae774a-ec98-4679-b20a-dc1947b0546f host3         [::1]:1161   \n",
       "                                     host3         [::1]:1161   \n",
       "\n",
       "                                                       community_string  \\\n",
       "id                                   hostname                             \n",
       "3a8083c9-79ff-4ed9-969c-e204cee391b3 host1     recorded/linux-full-walk   \n",
       "83f73383-c7e6-44ff-a063-8c79f339777b host2     recorded/linux-full-walk   \n",
       "3cae774a-ec98-4679-b20a-dc1947b0546f host3     recorded/linux-full-walk   \n",
       "                                     host3     recorded/linux-full-walk   \n",
       "\n",
       "                                                         notes  \n",
       "id                                   hostname                   \n",
       "3a8083c9-79ff-4ed9-969c-e204cee391b3 host1      DNS Resolution  \n",
       "83f73383-c7e6-44ff-a063-8c79f339777b host2             Timeout  \n",
       "3cae774a-ec98-4679-b20a-dc1947b0546f host3                IPv6  \n",
       "                                     host3     Preserved Index  "
      ]
     },
     "execution_count": 3,
     "metadata": {},
     "output_type": "execute_result"
    }
   ],
   "source": [
    "from uuid import UUID\n",
    "\n",
    "import pandas as pd\n",
    "\n",
    "df = (\n",
    "    pd.DataFrame(\n",
    "        data=[\n",
    "            [UUID('3a8083c9-79ff-4ed9-969c-e204cee391b3'), 'host1', 'localhost:1161', 'recorded/linux-full-walk', 'DNS Resolution'],\n",
    "            [UUID('83f73383-c7e6-44ff-a063-8c79f339777b'), 'host2', '127.0.0.1', 'recorded/linux-full-walk', 'Timeout'],\n",
    "            [UUID('3cae774a-ec98-4679-b20a-dc1947b0546f'), 'host3', '[::1]:1161', 'recorded/linux-full-walk', 'IPv6'],\n",
    "            [UUID('3cae774a-ec98-4679-b20a-dc1947b0546f'), 'host3', '[::1]:1161', 'recorded/linux-full-walk', 'Preserved Index'],\n",
    "        ],\n",
    "        columns=['id', 'hostname', 'ip_address', 'community_string', 'notes']\n",
    "    )\n",
    "    .set_index(['id', 'hostname'])\n",
    ")\n",
    "df"
   ]
  },
  {
   "cell_type": "markdown",
   "metadata": {},
   "source": [
    "# Construct a MIB-like Definition of the SNMP Objects to Collect"
   ]
  },
  {
   "cell_type": "code",
   "execution_count": 4,
   "metadata": {},
   "outputs": [],
   "source": [
    "import numpy as np\n",
    "\n",
    "from snmp_fetch.var_bind import VarBind\n",
    "from snmp_fetch.df.functions import astype, set_index, decode\n",
    "\n",
    "# definitions are built in an abrevieted hierarchy similiar to a MIB\n",
    "\n",
    "if_table = VarBind(                               # construct a base OID definition for a SNMP table to collect on\n",
    "    oid='1.3.6.1.2.1.2.2.1',\n",
    "    index=np.dtype([('if_index', np.uint64)]),    # set the numpy dtype of the index on this table \n",
    "    op=set_index('if_index')                      # supply a post-collection processing function to set the index\n",
    ")\n",
    "\n",
    "if_admin_status = if_table << VarBind(             # construct a complete OID defintion that will extend the if_table\n",
    "    oid='7',\n",
    "    data=np.dtype([('admin_status', np.uint64)]),  # set the numpy dtype of the value of this object\n",
    "    op=astype('admin_status', pd.UInt64Dtype())    # set the post-collection processing function for this value.\n",
    ")                                                  # cast the dtype to a type that supports NaN values in an int column\n",
    "                                                   # so dtype is not implicitly cast to float for missing objects\n",
    "\n",
    "if_oper_status = if_table << VarBind(\n",
    "    oid='8',\n",
    "    data=np.dtype([('oper_status', np.uint64)]),\n",
    "    op=astype('oper_status', pd.UInt64Dtype())\n",
    ")\n",
    "\n",
    "ifx_table = VarBind(                               # construct a second base OID definition that shares the same index as if_table\n",
    "    oid='1.3.6.1.2.1.31.1.1.1',\n",
    "    index=np.dtype([('if_index', np.uint64)]),\n",
    "    op=set_index('if_index')\n",
    ")\n",
    "\n",
    "ifx_alias = ifx_table << VarBind(                  # construct a completed OID definition that will extend the ifx_table\n",
    "    oid='1',\n",
    "    data=np.dtype([('alias', 'S256')]),\n",
    "    op=decode('alias')                             # decode the byte strings into python strings\n",
    ")\n",
    "\n",
    "var_binds = [                                      # collect all object definitions to be collected\n",
    "    if_admin_status,\n",
    "    if_oper_status,\n",
    "    ifx_alias\n",
    "]"
   ]
  },
  {
   "cell_type": "markdown",
   "metadata": {},
   "source": [
    "# Get Parameters for a Distributed Workload"
   ]
  },
  {
   "cell_type": "code",
   "execution_count": 5,
   "metadata": {},
   "outputs": [],
   "source": [
    "from snmp_fetch import PduType, SnmpConfig\n",
    "from snmp_fetch.distributed import distribute, fetch, process_response\n",
    "\n",
    "task_params = distribute(\n",
    "    PduType.BULKGET,                          # specify the PDU type\n",
    "    df,                                       # supply the DataFrame to augment with SNMP data\n",
    "    var_binds,                                # supply the object definitions to collect \n",
    "    config=SnmpConfig(retries=1, timeout=1),  # optionally, supply an SNMP configuration\n",
    "    batch_size=1,                             # optionally, supply the batch size\n",
    "    host='ip_address',                        # specify which column contains the host to connect from (default: 'host')\n",
    "    snmp_community='community_string'         # specify which column contains the SNMP community string (default: 'snmp_community')\n",
    ")"
   ]
  },
  {
   "cell_type": "markdown",
   "metadata": {},
   "source": [
    "# Distribute the Workload and Combine All Results"
   ]
  },
  {
   "cell_type": "code",
   "execution_count": 6,
   "metadata": {},
   "outputs": [],
   "source": [
    "from toolz.sandbox.core import unzip\n",
    "\n",
    "graph = []\n",
    "\n",
    "for fetch_params, response_params in task_params:\n",
    "    response = delayed(fetch)(*fetch_params)\n",
    "    result = delayed(process_response)(*response_params, response)\n",
    "    # tasks can be routed to different nodes using dask resources\n",
    "    # https://distributed.dask.org/en/latest/resources.html\n",
    "    graph.append(result)\n",
    "\n",
    "result_dfs, error_lists = unzip(client.gather(client.compute(graph)))"
   ]
  },
  {
   "cell_type": "markdown",
   "metadata": {},
   "source": [
    "# Display Errors"
   ]
  },
  {
   "cell_type": "code",
   "execution_count": 7,
   "metadata": {},
   "outputs": [
    {
     "data": {
      "text/plain": [
       "[SnmpError(type=TIMEOUT_ERROR, Host(index=1, hostname='127.0.0.1', community='recorded/linux-full-walk'), sys_errno=None, snmp_errno=-24, err_stat=None, err_index=None, err_oid=None, message='Timeout error')]"
      ]
     },
     "execution_count": 7,
     "metadata": {},
     "output_type": "execute_result"
    }
   ],
   "source": [
    "errors = [error for errors in error_lists for error in errors]\n",
    "errors"
   ]
  },
  {
   "cell_type": "markdown",
   "metadata": {},
   "source": [
    "# Display Results"
   ]
  },
  {
   "cell_type": "code",
   "execution_count": 8,
   "metadata": {},
   "outputs": [
    {
     "data": {
      "text/html": [
       "<div>\n",
       "<style scoped>\n",
       "    .dataframe tbody tr th:only-of-type {\n",
       "        vertical-align: middle;\n",
       "    }\n",
       "\n",
       "    .dataframe tbody tr th {\n",
       "        vertical-align: top;\n",
       "    }\n",
       "\n",
       "    .dataframe thead th {\n",
       "        text-align: right;\n",
       "    }\n",
       "</style>\n",
       "<table border=\"1\" class=\"dataframe\">\n",
       "  <thead>\n",
       "    <tr style=\"text-align: right;\">\n",
       "      <th></th>\n",
       "      <th></th>\n",
       "      <th>#timestamp</th>\n",
       "      <th>admin_status</th>\n",
       "      <th>alias</th>\n",
       "      <th>community_string</th>\n",
       "      <th>if_index</th>\n",
       "      <th>ip_address</th>\n",
       "      <th>notes</th>\n",
       "      <th>oper_status</th>\n",
       "    </tr>\n",
       "    <tr>\n",
       "      <th>id</th>\n",
       "      <th>hostname</th>\n",
       "      <th></th>\n",
       "      <th></th>\n",
       "      <th></th>\n",
       "      <th></th>\n",
       "      <th></th>\n",
       "      <th></th>\n",
       "      <th></th>\n",
       "      <th></th>\n",
       "    </tr>\n",
       "  </thead>\n",
       "  <tbody>\n",
       "    <tr>\n",
       "      <th rowspan=\"2\" valign=\"top\">3a8083c9-79ff-4ed9-969c-e204cee391b3</th>\n",
       "      <th>host1</th>\n",
       "      <td>2019-10-30 20:59:46+00:00</td>\n",
       "      <td>1</td>\n",
       "      <td>lo</td>\n",
       "      <td>recorded/linux-full-walk</td>\n",
       "      <td>1</td>\n",
       "      <td>localhost:1161</td>\n",
       "      <td>DNS Resolution</td>\n",
       "      <td>1</td>\n",
       "    </tr>\n",
       "    <tr>\n",
       "      <th>host1</th>\n",
       "      <td>2019-10-30 20:59:46+00:00</td>\n",
       "      <td>1</td>\n",
       "      <td>eth0</td>\n",
       "      <td>recorded/linux-full-walk</td>\n",
       "      <td>2</td>\n",
       "      <td>localhost:1161</td>\n",
       "      <td>DNS Resolution</td>\n",
       "      <td>1</td>\n",
       "    </tr>\n",
       "    <tr>\n",
       "      <th>83f73383-c7e6-44ff-a063-8c79f339777b</th>\n",
       "      <th>host2</th>\n",
       "      <td>NaT</td>\n",
       "      <td>NaN</td>\n",
       "      <td>NaN</td>\n",
       "      <td>recorded/linux-full-walk</td>\n",
       "      <td>NaN</td>\n",
       "      <td>127.0.0.1</td>\n",
       "      <td>Timeout</td>\n",
       "      <td>NaN</td>\n",
       "    </tr>\n",
       "    <tr>\n",
       "      <th rowspan=\"4\" valign=\"top\">3cae774a-ec98-4679-b20a-dc1947b0546f</th>\n",
       "      <th>host3</th>\n",
       "      <td>2019-10-30 20:59:45+00:00</td>\n",
       "      <td>1</td>\n",
       "      <td>lo</td>\n",
       "      <td>recorded/linux-full-walk</td>\n",
       "      <td>1</td>\n",
       "      <td>[::1]:1161</td>\n",
       "      <td>IPv6</td>\n",
       "      <td>1</td>\n",
       "    </tr>\n",
       "    <tr>\n",
       "      <th>host3</th>\n",
       "      <td>2019-10-30 20:59:45+00:00</td>\n",
       "      <td>1</td>\n",
       "      <td>eth0</td>\n",
       "      <td>recorded/linux-full-walk</td>\n",
       "      <td>2</td>\n",
       "      <td>[::1]:1161</td>\n",
       "      <td>IPv6</td>\n",
       "      <td>1</td>\n",
       "    </tr>\n",
       "    <tr>\n",
       "      <th>host3</th>\n",
       "      <td>2019-10-30 20:59:46+00:00</td>\n",
       "      <td>1</td>\n",
       "      <td>lo</td>\n",
       "      <td>recorded/linux-full-walk</td>\n",
       "      <td>1</td>\n",
       "      <td>[::1]:1161</td>\n",
       "      <td>Preserved Index</td>\n",
       "      <td>1</td>\n",
       "    </tr>\n",
       "    <tr>\n",
       "      <th>host3</th>\n",
       "      <td>2019-10-30 20:59:46+00:00</td>\n",
       "      <td>1</td>\n",
       "      <td>eth0</td>\n",
       "      <td>recorded/linux-full-walk</td>\n",
       "      <td>2</td>\n",
       "      <td>[::1]:1161</td>\n",
       "      <td>Preserved Index</td>\n",
       "      <td>1</td>\n",
       "    </tr>\n",
       "  </tbody>\n",
       "</table>\n",
       "</div>"
      ],
      "text/plain": [
       "                                                             #timestamp  \\\n",
       "id                                   hostname                             \n",
       "3a8083c9-79ff-4ed9-969c-e204cee391b3 host1    2019-10-30 20:59:46+00:00   \n",
       "                                     host1    2019-10-30 20:59:46+00:00   \n",
       "83f73383-c7e6-44ff-a063-8c79f339777b host2                          NaT   \n",
       "3cae774a-ec98-4679-b20a-dc1947b0546f host3    2019-10-30 20:59:45+00:00   \n",
       "                                     host3    2019-10-30 20:59:45+00:00   \n",
       "                                     host3    2019-10-30 20:59:46+00:00   \n",
       "                                     host3    2019-10-30 20:59:46+00:00   \n",
       "\n",
       "                                               admin_status alias  \\\n",
       "id                                   hostname                       \n",
       "3a8083c9-79ff-4ed9-969c-e204cee391b3 host1                1    lo   \n",
       "                                     host1                1  eth0   \n",
       "83f73383-c7e6-44ff-a063-8c79f339777b host2              NaN   NaN   \n",
       "3cae774a-ec98-4679-b20a-dc1947b0546f host3                1    lo   \n",
       "                                     host3                1  eth0   \n",
       "                                     host3                1    lo   \n",
       "                                     host3                1  eth0   \n",
       "\n",
       "                                                       community_string  \\\n",
       "id                                   hostname                             \n",
       "3a8083c9-79ff-4ed9-969c-e204cee391b3 host1     recorded/linux-full-walk   \n",
       "                                     host1     recorded/linux-full-walk   \n",
       "83f73383-c7e6-44ff-a063-8c79f339777b host2     recorded/linux-full-walk   \n",
       "3cae774a-ec98-4679-b20a-dc1947b0546f host3     recorded/linux-full-walk   \n",
       "                                     host3     recorded/linux-full-walk   \n",
       "                                     host3     recorded/linux-full-walk   \n",
       "                                     host3     recorded/linux-full-walk   \n",
       "\n",
       "                                               if_index      ip_address  \\\n",
       "id                                   hostname                             \n",
       "3a8083c9-79ff-4ed9-969c-e204cee391b3 host1            1  localhost:1161   \n",
       "                                     host1            2  localhost:1161   \n",
       "83f73383-c7e6-44ff-a063-8c79f339777b host2          NaN       127.0.0.1   \n",
       "3cae774a-ec98-4679-b20a-dc1947b0546f host3            1      [::1]:1161   \n",
       "                                     host3            2      [::1]:1161   \n",
       "                                     host3            1      [::1]:1161   \n",
       "                                     host3            2      [::1]:1161   \n",
       "\n",
       "                                                         notes  oper_status  \n",
       "id                                   hostname                                \n",
       "3a8083c9-79ff-4ed9-969c-e204cee391b3 host1      DNS Resolution            1  \n",
       "                                     host1      DNS Resolution            1  \n",
       "83f73383-c7e6-44ff-a063-8c79f339777b host2             Timeout          NaN  \n",
       "3cae774a-ec98-4679-b20a-dc1947b0546f host3                IPv6            1  \n",
       "                                     host3                IPv6            1  \n",
       "                                     host3     Preserved Index            1  \n",
       "                                     host3     Preserved Index            1  "
      ]
     },
     "execution_count": 8,
     "metadata": {},
     "output_type": "execute_result"
    }
   ],
   "source": [
    "# resulting DataFrame contains the same index and column data as the original DataFrame\n",
    "# along with the SNMP objects\n",
    "results = astype('if_index', pd.UInt64Dtype())(pd.concat(result_dfs, sort=True))  # index dtypes need to fixed to support NaN\n",
    "results"
   ]
  },
  {
   "cell_type": "markdown",
   "metadata": {},
   "source": [
    "# Stop the Simulated SNMP Agent"
   ]
  },
  {
   "cell_type": "code",
   "execution_count": 2,
   "metadata": {},
   "outputs": [],
   "source": [
    "process.kill()\n",
    "process.communicate()\n",
    "del process"
   ]
  },
  {
   "cell_type": "code",
   "execution_count": null,
   "metadata": {},
   "outputs": [],
   "source": []
  }
 ],
 "metadata": {
  "kernelspec": {
   "display_name": "Python 3",
   "language": "python",
   "name": "python3"
  },
  "language_info": {
   "codemirror_mode": {
    "name": "ipython",
    "version": 3
   },
   "file_extension": ".py",
   "mimetype": "text/x-python",
   "name": "python",
   "nbconvert_exporter": "python",
   "pygments_lexer": "ipython3",
   "version": "3.7.4"
  }
 },
 "nbformat": 4,
 "nbformat_minor": 4
}
