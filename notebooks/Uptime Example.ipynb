{
 "cells": [
  {
   "cell_type": "markdown",
   "metadata": {},
   "source": [
    "# Start a Simulated SNMP Agent"
   ]
  },
  {
   "cell_type": "code",
   "execution_count": 1,
   "metadata": {},
   "outputs": [],
   "source": [
    "import subprocess\n",
    "\n",
    "try:\n",
    "    if process:\n",
    "        pass\n",
    "except:\n",
    "    process = subprocess.Popen(\n",
    "        [\n",
    "            'snmpsimd.py',\n",
    "            '--agent-udpv4-endpoint=127.0.0.1:1161',\n",
    "            '--agent-udpv6-endpoint=[::1]:1161'\n",
    "        ],\n",
    "        stdout=subprocess.DEVNULL,\n",
    "        stderr=subprocess.DEVNULL,\n",
    "        shell=False\n",
    "    )"
   ]
  },
  {
   "cell_type": "markdown",
   "metadata": {},
   "source": [
    "# Create a DataFrame Mimicking a Database Query Result"
   ]
  },
  {
   "cell_type": "code",
   "execution_count": 2,
   "metadata": {},
   "outputs": [
    {
     "data": {
      "text/html": [
       "<div>\n",
       "<style scoped>\n",
       "    .dataframe tbody tr th:only-of-type {\n",
       "        vertical-align: middle;\n",
       "    }\n",
       "\n",
       "    .dataframe tbody tr th {\n",
       "        vertical-align: top;\n",
       "    }\n",
       "\n",
       "    .dataframe thead th {\n",
       "        text-align: right;\n",
       "    }\n",
       "</style>\n",
       "<table border=\"1\" class=\"dataframe\">\n",
       "  <thead>\n",
       "    <tr style=\"text-align: right;\">\n",
       "      <th></th>\n",
       "      <th></th>\n",
       "      <th>ip_address</th>\n",
       "      <th>community_string</th>\n",
       "      <th>notes</th>\n",
       "    </tr>\n",
       "    <tr>\n",
       "      <th>id</th>\n",
       "      <th>hostname</th>\n",
       "      <th></th>\n",
       "      <th></th>\n",
       "      <th></th>\n",
       "    </tr>\n",
       "  </thead>\n",
       "  <tbody>\n",
       "    <tr>\n",
       "      <th>3a8083c9-79ff-4ed9-969c-e204cee391b3</th>\n",
       "      <th>host1</th>\n",
       "      <td>localhost:1161</td>\n",
       "      <td>recorded/linux-full-walk</td>\n",
       "      <td>DNS Resolution</td>\n",
       "    </tr>\n",
       "    <tr>\n",
       "      <th rowspan=\"2\" valign=\"top\">3cae774a-ec98-4679-b20a-dc1947b0546f</th>\n",
       "      <th>host3</th>\n",
       "      <td>[::1]:1161</td>\n",
       "      <td>recorded/linux-full-walk</td>\n",
       "      <td>IPv6</td>\n",
       "    </tr>\n",
       "    <tr>\n",
       "      <th>host3</th>\n",
       "      <td>[::1]:1161</td>\n",
       "      <td>recorded/linux-full-walk</td>\n",
       "      <td>Preserved Index</td>\n",
       "    </tr>\n",
       "  </tbody>\n",
       "</table>\n",
       "</div>"
      ],
      "text/plain": [
       "                                                   ip_address  \\\n",
       "id                                   hostname                   \n",
       "3a8083c9-79ff-4ed9-969c-e204cee391b3 host1     localhost:1161   \n",
       "3cae774a-ec98-4679-b20a-dc1947b0546f host3         [::1]:1161   \n",
       "                                     host3         [::1]:1161   \n",
       "\n",
       "                                                       community_string  \\\n",
       "id                                   hostname                             \n",
       "3a8083c9-79ff-4ed9-969c-e204cee391b3 host1     recorded/linux-full-walk   \n",
       "3cae774a-ec98-4679-b20a-dc1947b0546f host3     recorded/linux-full-walk   \n",
       "                                     host3     recorded/linux-full-walk   \n",
       "\n",
       "                                                         notes  \n",
       "id                                   hostname                   \n",
       "3a8083c9-79ff-4ed9-969c-e204cee391b3 host1      DNS Resolution  \n",
       "3cae774a-ec98-4679-b20a-dc1947b0546f host3                IPv6  \n",
       "                                     host3     Preserved Index  "
      ]
     },
     "execution_count": 2,
     "metadata": {},
     "output_type": "execute_result"
    }
   ],
   "source": [
    "from uuid import UUID\n",
    "\n",
    "import pandas as pd\n",
    "\n",
    "df = (\n",
    "    pd.DataFrame(\n",
    "        data=[\n",
    "            [UUID('3a8083c9-79ff-4ed9-969c-e204cee391b3'), 'host1', 'localhost:1161', 'recorded/linux-full-walk', 'DNS Resolution'],\n",
    "            [UUID('3cae774a-ec98-4679-b20a-dc1947b0546f'), 'host3', '[::1]:1161', 'recorded/linux-full-walk', 'IPv6'],\n",
    "            [UUID('3cae774a-ec98-4679-b20a-dc1947b0546f'), 'host3', '[::1]:1161', 'recorded/linux-full-walk', 'Preserved Index'],\n",
    "        ],\n",
    "        columns=['id', 'hostname', 'ip_address', 'community_string', 'notes']\n",
    "    )\n",
    "    .set_index(['id', 'hostname'])\n",
    ")\n",
    "df"
   ]
  },
  {
   "cell_type": "markdown",
   "metadata": {},
   "source": [
    "# Construct a MIB-like Definition of the SNMP Objects to Collect"
   ]
  },
  {
   "cell_type": "code",
   "execution_count": 3,
   "metadata": {},
   "outputs": [],
   "source": [
    "import numpy as np\n",
    "\n",
    "from snmp_fetch import ObjectType, object_type, pipeline_hook\n",
    "\n",
    "@object_type(oid='.1.3.6.1.2.1.1.3.0')\n",
    "class Uptime(ObjectType):\n",
    "    \"\"\"Uptime example.\"\"\"\n",
    "\n",
    "    dtype=np.dtype([('uptime', np.uint64)])  # shared index collected after the full OID has been constructed\n",
    "    \n",
    "    @pipeline_hook('before_pivot')\n",
    "    def set_type(df):\n",
    "        df['uptime'] = df['uptime'].inet.to_timedelta(100)\n",
    "        return df"
   ]
  },
  {
   "cell_type": "code",
   "execution_count": 4,
   "metadata": {},
   "outputs": [
    {
     "data": {
      "text/plain": [
       "[]"
      ]
     },
     "execution_count": 4,
     "metadata": {},
     "output_type": "execute_result"
    }
   ],
   "source": [
    "from snmp_fetch import PduType, SnmpConfig, fetch\n",
    "\n",
    "results, errors = fetch(\n",
    "    PduType.GET,\n",
    "    df,\n",
    "    Uptime,\n",
    "    config=SnmpConfig(retries=0, timeout=1),\n",
    "    host='ip_address',\n",
    "    snmp_community='community_string'\n",
    ")\n",
    "\n",
    "errors # display errors"
   ]
  },
  {
   "cell_type": "code",
   "execution_count": 5,
   "metadata": {},
   "outputs": [
    {
     "data": {
      "text/html": [
       "<div>\n",
       "<style scoped>\n",
       "    .dataframe tbody tr th:only-of-type {\n",
       "        vertical-align: middle;\n",
       "    }\n",
       "\n",
       "    .dataframe tbody tr th {\n",
       "        vertical-align: top;\n",
       "    }\n",
       "\n",
       "    .dataframe thead th {\n",
       "        text-align: right;\n",
       "    }\n",
       "</style>\n",
       "<table border=\"1\" class=\"dataframe\">\n",
       "  <thead>\n",
       "    <tr style=\"text-align: right;\">\n",
       "      <th></th>\n",
       "      <th></th>\n",
       "      <th>#timestamp</th>\n",
       "      <th>uptime</th>\n",
       "      <th>ip_address</th>\n",
       "      <th>community_string</th>\n",
       "      <th>notes</th>\n",
       "    </tr>\n",
       "    <tr>\n",
       "      <th>id</th>\n",
       "      <th>hostname</th>\n",
       "      <th></th>\n",
       "      <th></th>\n",
       "      <th></th>\n",
       "      <th></th>\n",
       "      <th></th>\n",
       "    </tr>\n",
       "  </thead>\n",
       "  <tbody>\n",
       "    <tr>\n",
       "      <th>3a8083c9-79ff-4ed9-969c-e204cee391b3</th>\n",
       "      <th>host1</th>\n",
       "      <td>2019-11-18 18:37:37+00:00</td>\n",
       "      <td>27 days 00:24:11</td>\n",
       "      <td>localhost:1161</td>\n",
       "      <td>recorded/linux-full-walk</td>\n",
       "      <td>DNS Resolution</td>\n",
       "    </tr>\n",
       "    <tr>\n",
       "      <th rowspan=\"2\" valign=\"top\">3cae774a-ec98-4679-b20a-dc1947b0546f</th>\n",
       "      <th>host3</th>\n",
       "      <td>2019-11-18 18:37:37+00:00</td>\n",
       "      <td>27 days 00:24:11</td>\n",
       "      <td>[::1]:1161</td>\n",
       "      <td>recorded/linux-full-walk</td>\n",
       "      <td>IPv6</td>\n",
       "    </tr>\n",
       "    <tr>\n",
       "      <th>host3</th>\n",
       "      <td>2019-11-18 18:37:37+00:00</td>\n",
       "      <td>27 days 00:24:11</td>\n",
       "      <td>[::1]:1161</td>\n",
       "      <td>recorded/linux-full-walk</td>\n",
       "      <td>Preserved Index</td>\n",
       "    </tr>\n",
       "  </tbody>\n",
       "</table>\n",
       "</div>"
      ],
      "text/plain": [
       "                                                             #timestamp  \\\n",
       "id                                   hostname                             \n",
       "3a8083c9-79ff-4ed9-969c-e204cee391b3 host1    2019-11-18 18:37:37+00:00   \n",
       "3cae774a-ec98-4679-b20a-dc1947b0546f host3    2019-11-18 18:37:37+00:00   \n",
       "                                     host3    2019-11-18 18:37:37+00:00   \n",
       "\n",
       "                                                        uptime  \\\n",
       "id                                   hostname                    \n",
       "3a8083c9-79ff-4ed9-969c-e204cee391b3 host1    27 days 00:24:11   \n",
       "3cae774a-ec98-4679-b20a-dc1947b0546f host3    27 days 00:24:11   \n",
       "                                     host3    27 days 00:24:11   \n",
       "\n",
       "                                                   ip_address  \\\n",
       "id                                   hostname                   \n",
       "3a8083c9-79ff-4ed9-969c-e204cee391b3 host1     localhost:1161   \n",
       "3cae774a-ec98-4679-b20a-dc1947b0546f host3         [::1]:1161   \n",
       "                                     host3         [::1]:1161   \n",
       "\n",
       "                                                       community_string  \\\n",
       "id                                   hostname                             \n",
       "3a8083c9-79ff-4ed9-969c-e204cee391b3 host1     recorded/linux-full-walk   \n",
       "3cae774a-ec98-4679-b20a-dc1947b0546f host3     recorded/linux-full-walk   \n",
       "                                     host3     recorded/linux-full-walk   \n",
       "\n",
       "                                                         notes  \n",
       "id                                   hostname                   \n",
       "3a8083c9-79ff-4ed9-969c-e204cee391b3 host1      DNS Resolution  \n",
       "3cae774a-ec98-4679-b20a-dc1947b0546f host3                IPv6  \n",
       "                                     host3     Preserved Index  "
      ]
     },
     "execution_count": 5,
     "metadata": {},
     "output_type": "execute_result"
    }
   ],
   "source": [
    "results # display results"
   ]
  },
  {
   "cell_type": "markdown",
   "metadata": {},
   "source": [
    "# Stop the Simulated SNMP Agent"
   ]
  },
  {
   "cell_type": "code",
   "execution_count": 6,
   "metadata": {},
   "outputs": [],
   "source": [
    "process.kill()\n",
    "process.communicate()\n",
    "del process"
   ]
  },
  {
   "cell_type": "code",
   "execution_count": null,
   "metadata": {},
   "outputs": [],
   "source": []
  }
 ],
 "metadata": {
  "kernelspec": {
   "display_name": "Python 3",
   "language": "python",
   "name": "python3"
  },
  "language_info": {
   "codemirror_mode": {
    "name": "ipython",
    "version": 3
   },
   "file_extension": ".py",
   "mimetype": "text/x-python",
   "name": "python",
   "nbconvert_exporter": "python",
   "pygments_lexer": "ipython3",
   "version": "3.7.4"
  }
 },
 "nbformat": 4,
 "nbformat_minor": 4
}
