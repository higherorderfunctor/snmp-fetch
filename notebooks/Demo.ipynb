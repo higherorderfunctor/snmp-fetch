{
 "cells": [
  {
   "cell_type": "markdown",
   "metadata": {},
   "source": [
    "# Start a Simulated SNMP Agent"
   ]
  },
  {
   "cell_type": "code",
   "execution_count": 1,
   "metadata": {},
   "outputs": [],
   "source": [
    "import subprocess\n",
    "\n",
    "try:\n",
    "    if process:\n",
    "        pass\n",
    "except:\n",
    "    process = subprocess.Popen(\n",
    "        [\n",
    "            'snmpsimd.py',\n",
    "            '--agent-udpv4-endpoint=127.0.0.1:1161',\n",
    "            '--agent-udpv6-endpoint=[::1]:1161'\n",
    "        ],\n",
    "        stdout=subprocess.DEVNULL,\n",
    "        stderr=subprocess.DEVNULL,\n",
    "        shell=False\n",
    "    )"
   ]
  },
  {
   "cell_type": "markdown",
   "metadata": {},
   "source": [
    "# Create a DataFrame mimicking a database"
   ]
  },
  {
   "cell_type": "code",
   "execution_count": 1,
   "metadata": {},
   "outputs": [
    {
     "data": {
      "text/html": [
       "<div>\n",
       "<style scoped>\n",
       "    .dataframe tbody tr th:only-of-type {\n",
       "        vertical-align: middle;\n",
       "    }\n",
       "\n",
       "    .dataframe tbody tr th {\n",
       "        vertical-align: top;\n",
       "    }\n",
       "\n",
       "    .dataframe thead th {\n",
       "        text-align: right;\n",
       "    }\n",
       "</style>\n",
       "<table border=\"1\" class=\"dataframe\">\n",
       "  <thead>\n",
       "    <tr style=\"text-align: right;\">\n",
       "      <th></th>\n",
       "      <th>hostname</th>\n",
       "      <th>ip_address</th>\n",
       "      <th>community_string</th>\n",
       "      <th>notes</th>\n",
       "    </tr>\n",
       "    <tr>\n",
       "      <th>id</th>\n",
       "      <th></th>\n",
       "      <th></th>\n",
       "      <th></th>\n",
       "      <th></th>\n",
       "    </tr>\n",
       "  </thead>\n",
       "  <tbody>\n",
       "    <tr>\n",
       "      <th>3a8083c9-79ff-4ed9-969c-e204cee391b3</th>\n",
       "      <td>host1</td>\n",
       "      <td>localhost:1161</td>\n",
       "      <td>recorded/linux-full-walk</td>\n",
       "      <td>DNS Resolution</td>\n",
       "    </tr>\n",
       "    <tr>\n",
       "      <th>3cae774a-ec98-4679-b20a-dc1947b0546f</th>\n",
       "      <td>host3</td>\n",
       "      <td>[::1]:1161</td>\n",
       "      <td>recorded/linux-full-walk</td>\n",
       "      <td>IPv6</td>\n",
       "    </tr>\n",
       "    <tr>\n",
       "      <th>3cae774a-ec98-4679-b20a-dc1947b0546f</th>\n",
       "      <td>host3</td>\n",
       "      <td>[::1]:1161</td>\n",
       "      <td>recorded/linux-full-walk</td>\n",
       "      <td>Preserved Index</td>\n",
       "    </tr>\n",
       "  </tbody>\n",
       "</table>\n",
       "</div>"
      ],
      "text/plain": [
       "                                     hostname      ip_address  \\\n",
       "id                                                              \n",
       "3a8083c9-79ff-4ed9-969c-e204cee391b3    host1  localhost:1161   \n",
       "3cae774a-ec98-4679-b20a-dc1947b0546f    host3      [::1]:1161   \n",
       "3cae774a-ec98-4679-b20a-dc1947b0546f    host3      [::1]:1161   \n",
       "\n",
       "                                              community_string  \\\n",
       "id                                                               \n",
       "3a8083c9-79ff-4ed9-969c-e204cee391b3  recorded/linux-full-walk   \n",
       "3cae774a-ec98-4679-b20a-dc1947b0546f  recorded/linux-full-walk   \n",
       "3cae774a-ec98-4679-b20a-dc1947b0546f  recorded/linux-full-walk   \n",
       "\n",
       "                                                notes  \n",
       "id                                                     \n",
       "3a8083c9-79ff-4ed9-969c-e204cee391b3   DNS Resolution  \n",
       "3cae774a-ec98-4679-b20a-dc1947b0546f             IPv6  \n",
       "3cae774a-ec98-4679-b20a-dc1947b0546f  Preserved Index  "
      ]
     },
     "execution_count": 1,
     "metadata": {},
     "output_type": "execute_result"
    }
   ],
   "source": [
    "from uuid import UUID\n",
    "\n",
    "import pandas as pd\n",
    "\n",
    "df = (\n",
    "    pd.DataFrame(\n",
    "        data=[\n",
    "            [UUID('3a8083c9-79ff-4ed9-969c-e204cee391b3'), 'host1', 'localhost:1161', 'recorded/linux-full-walk', 'DNS Resolution'],\n",
    "            #[UUID('83f73383-c7e6-44ff-a063-8c79f339777b'), 'host2', '127.0.0.1', 'recorded/linux-full-walk', 'Timeout'],\n",
    "            [UUID('3cae774a-ec98-4679-b20a-dc1947b0546f'), 'host3', '[::1]:1161', 'recorded/linux-full-walk', 'IPv6'],\n",
    "            [UUID('3cae774a-ec98-4679-b20a-dc1947b0546f'), 'host3', '[::1]:1161', 'recorded/linux-full-walk', 'Preserved Index'],\n",
    "        ],\n",
    "        columns=['id', 'hostname', 'ip_address', 'community_string', 'notes']\n",
    "    )\n",
    "    .set_index(['id'])\n",
    ")\n",
    "df"
   ]
  },
  {
   "cell_type": "markdown",
   "metadata": {},
   "source": [
    "# Construct a MIB-like Definition of the SNMP Objects to Collect"
   ]
  },
  {
   "cell_type": "code",
   "execution_count": 2,
   "metadata": {},
   "outputs": [
    {
     "data": {
      "text/plain": [
       "[([1, 3, 6, 1, 2, 1, 2, 2, 1, 7], (88, 8)),\n",
       " ([1, 3, 6, 1, 2, 1, 2, 2, 1, 8], (88, 8)),\n",
       " ([1, 3, 6, 1, 2, 1, 31, 1, 1, 1, 1], (96, 256))]"
      ]
     },
     "execution_count": 2,
     "metadata": {},
     "output_type": "execute_result"
    }
   ],
   "source": [
    "import numpy as np\n",
    "\n",
    "from snmp_fetch.var_bind import VarBind\n",
    "\n",
    "# definitions are built in an abbreviated hierarchy similiar to a MIB\n",
    "\n",
    "class InterfaceTable(VarBind):\n",
    "    oid='.1.3.6.1.2.1'\n",
    "\n",
    "class IfTable(VarBind):\n",
    "    parent = InterfaceTable\n",
    "    oid='.2.2.1'\n",
    "    index=np.dtype([('if_index', np.uint64)])\n",
    "    \n",
    "    def before_pivot(df):\n",
    "        return df.set_index('if_index')\n",
    "\n",
    "class IfAdminStatus(VarBind):\n",
    "    parent = IfTable\n",
    "    oid='.7'\n",
    "    dtype=np.dtype([('admin_status', np.uint64)])\n",
    "    \n",
    "    def before_pivot(df):\n",
    "        df['admin_status'] = df['admin_status'].astype(pd.UInt64Dtype())\n",
    "        return df\n",
    "\n",
    "class IfOperStatus(VarBind):\n",
    "    parent = IfTable\n",
    "    oid='.8'\n",
    "    dtype=np.dtype([('oper_status', np.uint64)])\n",
    "    \n",
    "    def before_pivot(df):\n",
    "        df['oper_status'] = df['oper_status'].astype(pd.UInt64Dtype())\n",
    "        return df\n",
    "\n",
    "class IfXTable(VarBind):\n",
    "    \"\"\"Test\"\"\"\n",
    "    parent = InterfaceTable\n",
    "    oid='.31.1.1.1'\n",
    "    index=np.dtype([('if_index', np.uint64)])\n",
    "    \n",
    "    def before_pivot(df):\n",
    "        return df.set_index('if_index')\n",
    "\n",
    "class IfXAlias(VarBind):\n",
    "    \"\"\"Test\"\"\"\n",
    "    parent = IfXTable\n",
    "    oid='.1'\n",
    "    dtype=np.dtype([('alias', 'S256')])\n",
    "    \n",
    "    def before_pivot(df):\n",
    "        df['alias'] = df['alias'].str.decode('utf-8', errors='ignore')\n",
    "        return df\n",
    "\n",
    "# InterfaceTable.describe()\n",
    "\n",
    "InterfaceTable.null_var_binds()"
   ]
  },
  {
   "cell_type": "code",
   "execution_count": 3,
   "metadata": {},
   "outputs": [],
   "source": [
    "from snmp_fetch import PduType, SnmpConfig, fetch, capi\n",
    "\n",
    "results0, errors0 = capi.fetch(\n",
    "    PduType.BULKGET,\n",
    "    [(i, h, c) for i, (h, c) in enumerate(df[['ip_address', 'community_string']].values)],\n",
    "    InterfaceTable.null_var_binds()\n",
    ")"
   ]
  },
  {
   "cell_type": "markdown",
   "metadata": {},
   "source": [
    "# Display Errors"
   ]
  },
  {
   "cell_type": "code",
   "execution_count": 4,
   "metadata": {},
   "outputs": [
    {
     "data": {
      "text/plain": [
       "[]"
      ]
     },
     "execution_count": 4,
     "metadata": {},
     "output_type": "execute_result"
    }
   ],
   "source": [
    "errors0"
   ]
  },
  {
   "cell_type": "markdown",
   "metadata": {},
   "source": [
    "# Display Results"
   ]
  },
  {
   "cell_type": "code",
   "execution_count": 6,
   "metadata": {},
   "outputs": [
    {
     "data": {
      "text/html": [
       "<div>\n",
       "<style scoped>\n",
       "    .dataframe tbody tr th:only-of-type {\n",
       "        vertical-align: middle;\n",
       "    }\n",
       "\n",
       "    .dataframe tbody tr th {\n",
       "        vertical-align: top;\n",
       "    }\n",
       "\n",
       "    .dataframe thead th {\n",
       "        text-align: right;\n",
       "    }\n",
       "</style>\n",
       "<table border=\"1\" class=\"dataframe\">\n",
       "  <thead>\n",
       "    <tr style=\"text-align: right;\">\n",
       "      <th></th>\n",
       "      <th>if_index</th>\n",
       "      <th>admin_status</th>\n",
       "      <th>oper_status</th>\n",
       "      <th>alias</th>\n",
       "      <th>#timestamp</th>\n",
       "      <th>hostname</th>\n",
       "      <th>ip_address</th>\n",
       "      <th>community_string</th>\n",
       "      <th>notes</th>\n",
       "    </tr>\n",
       "    <tr>\n",
       "      <th>id</th>\n",
       "      <th></th>\n",
       "      <th></th>\n",
       "      <th></th>\n",
       "      <th></th>\n",
       "      <th></th>\n",
       "      <th></th>\n",
       "      <th></th>\n",
       "      <th></th>\n",
       "      <th></th>\n",
       "    </tr>\n",
       "  </thead>\n",
       "  <tbody>\n",
       "    <tr>\n",
       "      <th>3a8083c9-79ff-4ed9-969c-e204cee391b3</th>\n",
       "      <td>1</td>\n",
       "      <td>1</td>\n",
       "      <td>1</td>\n",
       "      <td>lo</td>\n",
       "      <td>2019-11-06 22:34:42+00:00</td>\n",
       "      <td>host1</td>\n",
       "      <td>localhost:1161</td>\n",
       "      <td>recorded/linux-full-walk</td>\n",
       "      <td>DNS Resolution</td>\n",
       "    </tr>\n",
       "    <tr>\n",
       "      <th>3a8083c9-79ff-4ed9-969c-e204cee391b3</th>\n",
       "      <td>2</td>\n",
       "      <td>1</td>\n",
       "      <td>1</td>\n",
       "      <td>eth0</td>\n",
       "      <td>2019-11-06 22:34:42+00:00</td>\n",
       "      <td>host1</td>\n",
       "      <td>localhost:1161</td>\n",
       "      <td>recorded/linux-full-walk</td>\n",
       "      <td>DNS Resolution</td>\n",
       "    </tr>\n",
       "    <tr>\n",
       "      <th>3cae774a-ec98-4679-b20a-dc1947b0546f</th>\n",
       "      <td>1</td>\n",
       "      <td>1</td>\n",
       "      <td>1</td>\n",
       "      <td>lo</td>\n",
       "      <td>2019-11-06 22:34:42+00:00</td>\n",
       "      <td>host3</td>\n",
       "      <td>[::1]:1161</td>\n",
       "      <td>recorded/linux-full-walk</td>\n",
       "      <td>IPv6</td>\n",
       "    </tr>\n",
       "    <tr>\n",
       "      <th>3cae774a-ec98-4679-b20a-dc1947b0546f</th>\n",
       "      <td>2</td>\n",
       "      <td>1</td>\n",
       "      <td>1</td>\n",
       "      <td>eth0</td>\n",
       "      <td>2019-11-06 22:34:42+00:00</td>\n",
       "      <td>host3</td>\n",
       "      <td>[::1]:1161</td>\n",
       "      <td>recorded/linux-full-walk</td>\n",
       "      <td>IPv6</td>\n",
       "    </tr>\n",
       "    <tr>\n",
       "      <th>3cae774a-ec98-4679-b20a-dc1947b0546f</th>\n",
       "      <td>1</td>\n",
       "      <td>1</td>\n",
       "      <td>1</td>\n",
       "      <td>lo</td>\n",
       "      <td>2019-11-06 22:34:42+00:00</td>\n",
       "      <td>host3</td>\n",
       "      <td>[::1]:1161</td>\n",
       "      <td>recorded/linux-full-walk</td>\n",
       "      <td>Preserved Index</td>\n",
       "    </tr>\n",
       "    <tr>\n",
       "      <th>3cae774a-ec98-4679-b20a-dc1947b0546f</th>\n",
       "      <td>2</td>\n",
       "      <td>1</td>\n",
       "      <td>1</td>\n",
       "      <td>eth0</td>\n",
       "      <td>2019-11-06 22:34:42+00:00</td>\n",
       "      <td>host3</td>\n",
       "      <td>[::1]:1161</td>\n",
       "      <td>recorded/linux-full-walk</td>\n",
       "      <td>Preserved Index</td>\n",
       "    </tr>\n",
       "  </tbody>\n",
       "</table>\n",
       "</div>"
      ],
      "text/plain": [
       "                                      if_index  admin_status  oper_status  \\\n",
       "id                                                                          \n",
       "3a8083c9-79ff-4ed9-969c-e204cee391b3         1             1            1   \n",
       "3a8083c9-79ff-4ed9-969c-e204cee391b3         2             1            1   \n",
       "3cae774a-ec98-4679-b20a-dc1947b0546f         1             1            1   \n",
       "3cae774a-ec98-4679-b20a-dc1947b0546f         2             1            1   \n",
       "3cae774a-ec98-4679-b20a-dc1947b0546f         1             1            1   \n",
       "3cae774a-ec98-4679-b20a-dc1947b0546f         2             1            1   \n",
       "\n",
       "                                     alias                #timestamp hostname  \\\n",
       "id                                                                              \n",
       "3a8083c9-79ff-4ed9-969c-e204cee391b3    lo 2019-11-06 22:34:42+00:00    host1   \n",
       "3a8083c9-79ff-4ed9-969c-e204cee391b3  eth0 2019-11-06 22:34:42+00:00    host1   \n",
       "3cae774a-ec98-4679-b20a-dc1947b0546f    lo 2019-11-06 22:34:42+00:00    host3   \n",
       "3cae774a-ec98-4679-b20a-dc1947b0546f  eth0 2019-11-06 22:34:42+00:00    host3   \n",
       "3cae774a-ec98-4679-b20a-dc1947b0546f    lo 2019-11-06 22:34:42+00:00    host3   \n",
       "3cae774a-ec98-4679-b20a-dc1947b0546f  eth0 2019-11-06 22:34:42+00:00    host3   \n",
       "\n",
       "                                          ip_address  \\\n",
       "id                                                     \n",
       "3a8083c9-79ff-4ed9-969c-e204cee391b3  localhost:1161   \n",
       "3a8083c9-79ff-4ed9-969c-e204cee391b3  localhost:1161   \n",
       "3cae774a-ec98-4679-b20a-dc1947b0546f      [::1]:1161   \n",
       "3cae774a-ec98-4679-b20a-dc1947b0546f      [::1]:1161   \n",
       "3cae774a-ec98-4679-b20a-dc1947b0546f      [::1]:1161   \n",
       "3cae774a-ec98-4679-b20a-dc1947b0546f      [::1]:1161   \n",
       "\n",
       "                                              community_string  \\\n",
       "id                                                               \n",
       "3a8083c9-79ff-4ed9-969c-e204cee391b3  recorded/linux-full-walk   \n",
       "3a8083c9-79ff-4ed9-969c-e204cee391b3  recorded/linux-full-walk   \n",
       "3cae774a-ec98-4679-b20a-dc1947b0546f  recorded/linux-full-walk   \n",
       "3cae774a-ec98-4679-b20a-dc1947b0546f  recorded/linux-full-walk   \n",
       "3cae774a-ec98-4679-b20a-dc1947b0546f  recorded/linux-full-walk   \n",
       "3cae774a-ec98-4679-b20a-dc1947b0546f  recorded/linux-full-walk   \n",
       "\n",
       "                                                notes  \n",
       "id                                                     \n",
       "3a8083c9-79ff-4ed9-969c-e204cee391b3   DNS Resolution  \n",
       "3a8083c9-79ff-4ed9-969c-e204cee391b3   DNS Resolution  \n",
       "3cae774a-ec98-4679-b20a-dc1947b0546f             IPv6  \n",
       "3cae774a-ec98-4679-b20a-dc1947b0546f             IPv6  \n",
       "3cae774a-ec98-4679-b20a-dc1947b0546f  Preserved Index  \n",
       "3cae774a-ec98-4679-b20a-dc1947b0546f  Preserved Index  "
      ]
     },
     "execution_count": 6,
     "metadata": {},
     "output_type": "execute_result"
    }
   ],
   "source": [
    "from functools import reduce\n",
    "from operator import attrgetter\n",
    "from snmp_fetch.var_bind import concatv_dtypes, dtype_array\n",
    "from snmp_fetch.fp.maybe import Maybe, Just\n",
    "from functools import partial\n",
    "\n",
    "\n",
    "\n",
    "index = df.index.names\n",
    "df0 = df.reset_index()\n",
    "df0.index = df0.index.set_names(['#index'])\n",
    "\n",
    "InterfaceTable.to_pandas(results0, data=df0, index=index)"
   ]
  },
  {
   "cell_type": "markdown",
   "metadata": {},
   "source": [
    "# Stop the Simulated SNMP Agent"
   ]
  },
  {
   "cell_type": "code",
   "execution_count": null,
   "metadata": {},
   "outputs": [],
   "source": [
    "process.kill()\n",
    "process.communicate()\n",
    "del process"
   ]
  },
  {
   "cell_type": "code",
   "execution_count": 22,
   "metadata": {},
   "outputs": [
    {
     "data": {
      "text/plain": [
       "Just(value=dtype(('<u8', (10,))))"
      ]
     },
     "execution_count": 22,
     "metadata": {},
     "output_type": "execute_result"
    }
   ],
   "source": [
    "oid_dtype"
   ]
  },
  {
   "cell_type": "code",
   "execution_count": 23,
   "metadata": {},
   "outputs": [
    {
     "data": {
      "text/plain": [
       "dtype([('if_index', '<u8')])"
      ]
     },
     "execution_count": 23,
     "metadata": {},
     "output_type": "execute_result"
    }
   ],
   "source": [
    "index_dtype"
   ]
  },
  {
   "cell_type": "code",
   "execution_count": null,
   "metadata": {},
   "outputs": [],
   "source": []
  }
 ],
 "metadata": {
  "kernelspec": {
   "display_name": "Python 3",
   "language": "python",
   "name": "python3"
  },
  "language_info": {
   "codemirror_mode": {
    "name": "ipython",
    "version": 3
   },
   "file_extension": ".py",
   "mimetype": "text/x-python",
   "name": "python",
   "nbconvert_exporter": "python",
   "pygments_lexer": "ipython3",
   "version": "3.7.4"
  }
 },
 "nbformat": 4,
 "nbformat_minor": 4
}
