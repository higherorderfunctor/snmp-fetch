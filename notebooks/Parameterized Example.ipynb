{
 "cells": [
  {
   "cell_type": "markdown",
   "metadata": {},
   "source": [
    "# Start a Simulated SNMP Agent\n",
    "This example demonstrates working with complex data types with variable length fields using composable functions and the low-level API."
   ]
  },
  {
   "cell_type": "code",
   "execution_count": 1,
   "metadata": {},
   "outputs": [],
   "source": [
    "import subprocess\n",
    "\n",
    "try:\n",
    "    if process:\n",
    "        pass\n",
    "except:\n",
    "    process = subprocess.Popen(\n",
    "        [\n",
    "            'snmpsimd.py',\n",
    "            '--agent-udpv4-endpoint=127.0.0.1:1161',\n",
    "            '--agent-udpv6-endpoint=[::1]:1161'\n",
    "        ],\n",
    "        stdout=subprocess.DEVNULL,\n",
    "        stderr=subprocess.DEVNULL,\n",
    "        shell=False\n",
    "    )"
   ]
  },
  {
   "cell_type": "markdown",
   "metadata": {},
   "source": [
    "# Construct a MIB-like Definition of the SNMP Objects to Collect"
   ]
  },
  {
   "cell_type": "code",
   "execution_count": 2,
   "metadata": {},
   "outputs": [],
   "source": [
    "import numpy as np\n",
    "import pandas as pd\n",
    "\n",
    "from snmp_fetch import ObjectType, object_type, pipeline_hook\n",
    "\n",
    "df = pd.DataFrame(\n",
    "    data=[\n",
    "        ['localhost:1161', 'recorded/linux-full-walk'],\n",
    "    ],\n",
    "    columns=['ip_address', 'community_string']\n",
    ")\n",
    "\n",
    "@object_type(oid='.1.3.6.1.2.1.4.24.7.1.9')\n",
    "class StreamTest(ObjectType):\n",
    "    index=np.dtype([('_buffer', (np.uint64, 128))])\n",
    "    dtype=np.dtype([('value', np.uint64)])\n",
    "    \n",
    "    @pipeline_hook('before_pivot')\n",
    "    def process_buffer(df):\n",
    "        df[['dest_type', '_buffer']] = df['_buffer'].inet.buffer[0, 1:]\n",
    "        df['dest_type'].astype(pd.UInt64Dtype())\n",
    "        \n",
    "        # assume dest_zone will be in the db index and cannot be NULL\n",
    "        df[['dest_inet_address', '_buffer']] = df['_buffer'].inet.buffer.chunk()\n",
    "        df[['dest_inet_address', 'dest_zone']] = df['dest_inet_address'].inet.to_inet_address(default_zone=-1)\n",
    "        df['dest_zone'] = df['dest_zone'].astype(pd.Int64Dtype())\n",
    "        \n",
    "        df[['dest_prefix_len', '_buffer']] = df['_buffer'].inet.buffer[0, 1:]  # temp column to make cidr address\n",
    "\n",
    "        df[['route_policy', '_buffer']] = df['_buffer'].inet.buffer.chunk()\n",
    "        df['route_policy'] = df['route_policy'].inet.to_object_identifier()\n",
    "        \n",
    "        df[['next_hop_type', '_buffer']] = df['_buffer'].inet.buffer[0, 1:]\n",
    "        df['next_hop_type'] = df['next_hop_type'].astype(pd.UInt64Dtype())\n",
    "        \n",
    "        df[['next_hop_inet_address', '_buffer']] = df['_buffer'].inet.buffer.chunk()\n",
    "        df[['next_hop_inet_address', 'next_hop_zone']] = df['next_hop_inet_address'].inet.to_inet_address()\n",
    "        df['next_hop_zone'] = df['next_hop_zone'].astype(pd.UInt64Dtype())\n",
    "        \n",
    "        df['dest_inet_address'] = df[['dest_inet_address', 'dest_prefix_len']].inet.to_cidr_address()\n",
    "        \n",
    "        df = df.drop(columns=['_buffer', 'dest_prefix_len'])\n",
    "        return df"
   ]
  },
  {
   "cell_type": "code",
   "execution_count": 3,
   "metadata": {},
   "outputs": [
    {
     "data": {
      "text/html": [
       "<div>\n",
       "<style scoped>\n",
       "    .dataframe tbody tr th:only-of-type {\n",
       "        vertical-align: middle;\n",
       "    }\n",
       "\n",
       "    .dataframe tbody tr th {\n",
       "        vertical-align: top;\n",
       "    }\n",
       "\n",
       "    .dataframe thead th {\n",
       "        text-align: right;\n",
       "    }\n",
       "</style>\n",
       "<table border=\"1\" class=\"dataframe\">\n",
       "  <thead>\n",
       "    <tr style=\"text-align: right;\">\n",
       "      <th></th>\n",
       "      <th>#timestamp</th>\n",
       "      <th>value</th>\n",
       "      <th>dest_type</th>\n",
       "      <th>dest_inet_address</th>\n",
       "      <th>dest_zone</th>\n",
       "      <th>route_policy</th>\n",
       "      <th>next_hop_type</th>\n",
       "      <th>next_hop_inet_address</th>\n",
       "      <th>next_hop_zone</th>\n",
       "    </tr>\n",
       "  </thead>\n",
       "  <tbody>\n",
       "    <tr>\n",
       "      <th>0</th>\n",
       "      <td>2019-11-18 18:37:30+00:00</td>\n",
       "      <td>2</td>\n",
       "      <td>2</td>\n",
       "      <td>fe80::/64</td>\n",
       "      <td>-1</td>\n",
       "      <td>.5</td>\n",
       "      <td>2</td>\n",
       "      <td>::</td>\n",
       "      <td>NaN</td>\n",
       "    </tr>\n",
       "    <tr>\n",
       "      <th>1</th>\n",
       "      <td>2019-11-18 18:37:30+00:00</td>\n",
       "      <td>2</td>\n",
       "      <td>2</td>\n",
       "      <td>fe80::212:79ff:fe62:f940/128</td>\n",
       "      <td>-1</td>\n",
       "      <td>.4</td>\n",
       "      <td>2</td>\n",
       "      <td>::</td>\n",
       "      <td>NaN</td>\n",
       "    </tr>\n",
       "    <tr>\n",
       "      <th>2</th>\n",
       "      <td>2019-11-18 18:37:30+00:00</td>\n",
       "      <td>2</td>\n",
       "      <td>2</td>\n",
       "      <td>ff00::/8</td>\n",
       "      <td>-1</td>\n",
       "      <td>.6</td>\n",
       "      <td>2</td>\n",
       "      <td>::</td>\n",
       "      <td>NaN</td>\n",
       "    </tr>\n",
       "  </tbody>\n",
       "</table>\n",
       "</div>"
      ],
      "text/plain": [
       "                 #timestamp  value  dest_type             dest_inet_address  \\\n",
       "0 2019-11-18 18:37:30+00:00      2          2                     fe80::/64   \n",
       "1 2019-11-18 18:37:30+00:00      2          2  fe80::212:79ff:fe62:f940/128   \n",
       "2 2019-11-18 18:37:30+00:00      2          2                      ff00::/8   \n",
       "\n",
       "   dest_zone route_policy  next_hop_type next_hop_inet_address  next_hop_zone  \n",
       "0         -1           .5              2                    ::            NaN  \n",
       "1         -1           .4              2                    ::            NaN  \n",
       "2         -1           .6              2                    ::            NaN  "
      ]
     },
     "execution_count": 3,
     "metadata": {},
     "output_type": "execute_result"
    }
   ],
   "source": [
    "from snmp_fetch import PduType\n",
    "from snmp_fetch.api import fetch\n",
    "\n",
    "results, errors = fetch(\n",
    "    PduType.BULKGET,\n",
    "    [(i, str(h), c) for i, [h, c] in enumerate(df.reset_index()[['ip_address', 'community_string']].values)],\n",
    "    StreamTest.null_var_binds('2')  # IPv6 only\n",
    ")\n",
    "\n",
    "StreamTest.to_pandas(results)"
   ]
  },
  {
   "cell_type": "markdown",
   "metadata": {},
   "source": [
    "# Stop the Simulated SNMP Agent"
   ]
  },
  {
   "cell_type": "code",
   "execution_count": 4,
   "metadata": {},
   "outputs": [],
   "source": [
    "process.kill()\n",
    "process.communicate()\n",
    "del process"
   ]
  },
  {
   "cell_type": "code",
   "execution_count": null,
   "metadata": {},
   "outputs": [],
   "source": []
  }
 ],
 "metadata": {
  "kernelspec": {
   "display_name": "Python 3",
   "language": "python",
   "name": "python3"
  },
  "language_info": {
   "codemirror_mode": {
    "name": "ipython",
    "version": 3
   },
   "file_extension": ".py",
   "mimetype": "text/x-python",
   "name": "python",
   "nbconvert_exporter": "python",
   "pygments_lexer": "ipython3",
   "version": "3.7.4"
  }
 },
 "nbformat": 4,
 "nbformat_minor": 4
}
